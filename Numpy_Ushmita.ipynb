{
 "cells": [
  {
   "cell_type": "markdown",
   "metadata": {},
   "source": [
    "# 1.Create a null vector of size 10 but the fifth value is 1"
   ]
  },
  {
   "cell_type": "code",
   "execution_count": 2,
   "metadata": {},
   "outputs": [
    {
     "data": {
      "text/plain": [
       "array([0., 0., 0., 0., 1., 0., 0., 0., 0., 0.])"
      ]
     },
     "execution_count": 2,
     "metadata": {},
     "output_type": "execute_result"
    }
   ],
   "source": [
    "import numpy as np\n",
    "x=np.zeros(10)\n",
    "x[4]=1\n",
    "x"
   ]
  },
  {
   "cell_type": "markdown",
   "metadata": {},
   "source": [
    "# 2.Create a vector with values ranging from 10 to 49"
   ]
  },
  {
   "cell_type": "code",
   "execution_count": 3,
   "metadata": {},
   "outputs": [
    {
     "data": {
      "text/plain": [
       "array([10, 11, 12, 13, 14, 15, 16, 17, 18, 19, 20, 21, 22, 23, 24, 25, 26,\n",
       "       27, 28, 29, 30, 31, 32, 33, 34, 35, 36, 37, 38, 39, 40, 41, 42, 43,\n",
       "       44, 45, 46, 47, 48])"
      ]
     },
     "execution_count": 3,
     "metadata": {},
     "output_type": "execute_result"
    }
   ],
   "source": [
    "import numpy as np\n",
    "x=np.arange(10,49)\n",
    "x"
   ]
  },
  {
   "cell_type": "markdown",
   "metadata": {},
   "source": [
    "# 3.Reverse a vector (first element becomes last)"
   ]
  },
  {
   "cell_type": "code",
   "execution_count": 4,
   "metadata": {},
   "outputs": [
    {
     "name": "stdout",
     "output_type": "stream",
     "text": [
      "initial array [1 2 3 6 4 5]\n",
      "final array [5 4 6 3 2 1]\n"
     ]
    }
   ],
   "source": [
    "import numpy as np\n",
    "  \n",
    "ini_array = np.array([1, 2, 3, 6, 4, 5])\n",
    "  \n",
    "\n",
    "print(\"initial array\", str(ini_array))\n",
    "  \n",
    "\n",
    "# using flipud method to reverse\n",
    "res = np.flipud(ini_array)\n",
    "  \n",
    "# printing result\n",
    "print(\"final array\", str(res))"
   ]
  },
  {
   "cell_type": "markdown",
   "metadata": {},
   "source": [
    "# 4. Create a 3x3 matrix with values ranging from 0 to 8"
   ]
  },
  {
   "cell_type": "code",
   "execution_count": 6,
   "metadata": {},
   "outputs": [
    {
     "data": {
      "text/plain": [
       "array([[0, 1, 2],\n",
       "       [3, 4, 5],\n",
       "       [6, 7, 8]])"
      ]
     },
     "execution_count": 6,
     "metadata": {},
     "output_type": "execute_result"
    }
   ],
   "source": [
    "import numpy as np\n",
    "x =  np.arange(0, 9).reshape(3,3)\n",
    "x"
   ]
  },
  {
   "cell_type": "markdown",
   "metadata": {},
   "source": [
    "# 5.Find indices of non-zero elements from [1,2,0,0,4,0]"
   ]
  },
  {
   "cell_type": "code",
   "execution_count": 7,
   "metadata": {},
   "outputs": [
    {
     "name": "stdout",
     "output_type": "stream",
     "text": [
      "Input  array : \n",
      " [[1 2 0 0 4 0]]\n",
      "Indices of non zero elements :  (array([0, 0, 0], dtype=int64), array([0, 1, 4], dtype=int64))\n"
     ]
    }
   ],
   "source": [
    "import numpy as np\n",
    "arr = np.array([[1,2,0,0,4,0]])\n",
    "  \n",
    "print (\"Input  array : \\n\", arr)\n",
    "    \n",
    "ind = np.nonzero(arr)\n",
    "print (\"Indices of non zero elements : \", ind)"
   ]
  },
  {
   "cell_type": "markdown",
   "metadata": {},
   "source": [
    "# 6. Create a 3x3x3 array with random values"
   ]
  },
  {
   "cell_type": "code",
   "execution_count": 10,
   "metadata": {},
   "outputs": [
    {
     "data": {
      "text/plain": [
       "array([[[0.21783763, 0.91143149, 0.34217825],\n",
       "        [0.90367237, 0.16824831, 0.34185048],\n",
       "        [0.47580161, 0.94843695, 0.72461034]],\n",
       "\n",
       "       [[0.31877844, 0.47030745, 0.76772368],\n",
       "        [0.88429017, 0.63256583, 0.87159364],\n",
       "        [0.52840598, 0.01177119, 0.67612709]],\n",
       "\n",
       "       [[0.82575748, 0.84364883, 0.74097539],\n",
       "        [0.66411241, 0.43015826, 0.50554962],\n",
       "        [0.16933974, 0.32713148, 0.0089796 ]]])"
      ]
     },
     "execution_count": 10,
     "metadata": {},
     "output_type": "execute_result"
    }
   ],
   "source": [
    "import numpy as np\n",
    "x = np.random.random((3,3,3))\n",
    "print(x)"
   ]
  },
  {
   "cell_type": "markdown",
   "metadata": {},
   "source": [
    "# 7. Create a 10x10 array with random values and find the minimum and maximum values"
   ]
  },
  {
   "cell_type": "code",
   "execution_count": 13,
   "metadata": {},
   "outputs": [
    {
     "name": "stdout",
     "output_type": "stream",
     "text": [
      "Original Array:\n",
      "[[0.30715386 0.91040163 0.05066957 0.69005631 0.34684216 0.00527647\n",
      "  0.09411772 0.36024531 0.93082947 0.23478827]\n",
      " [0.01362787 0.40083061 0.82823245 0.96933238 0.13403456 0.12531582\n",
      "  0.74724446 0.8963529  0.57172466 0.10502627]\n",
      " [0.97383727 0.96302775 0.37854794 0.36750707 0.62264966 0.89350111\n",
      "  0.28729227 0.69460355 0.61683554 0.50777395]\n",
      " [0.89024699 0.82077235 0.94327215 0.17499319 0.59980146 0.16850679\n",
      "  0.37591899 0.55406732 0.68219607 0.5353817 ]\n",
      " [0.37387123 0.84625649 0.58429582 0.48176124 0.2003208  0.16790085\n",
      "  0.98523252 0.97518059 0.99099995 0.20073084]\n",
      " [0.50785941 0.50961624 0.02887061 0.82678639 0.60957032 0.08838552\n",
      "  0.2313492  0.51874014 0.03017943 0.26720573]\n",
      " [0.2758829  0.52442316 0.01292232 0.33368959 0.38397992 0.0078384\n",
      "  0.5392988  0.89210187 0.85991806 0.1405991 ]\n",
      " [0.19455266 0.38186026 0.81697612 0.92648678 0.37384008 0.46767265\n",
      "  0.44464023 0.16507725 0.848207   0.49652416]\n",
      " [0.93708211 0.97880226 0.26809885 0.04440785 0.085267   0.33600331\n",
      "  0.26984254 0.44241653 0.25235987 0.21024375]\n",
      " [0.7358768  0.78279966 0.69374035 0.81973465 0.49761715 0.85193848\n",
      "  0.52126029 0.92885832 0.2461341  0.75789885]]\n",
      "Minimum Value   0.005276474079473403\n",
      "Maximum Value   0.9909999481750007\n"
     ]
    }
   ],
   "source": [
    "import numpy as np\n",
    "x = np.random.random((10,10))\n",
    "print(\"Original Array:\")\n",
    "print(x) \n",
    "print(\"Minimum Value  \",x.min())\n",
    "\n",
    "print(\"Maximum Value  \",x.max())\n"
   ]
  },
  {
   "cell_type": "markdown",
   "metadata": {},
   "source": [
    "# 8.Create a random vector of size 30 and find the mean value"
   ]
  },
  {
   "cell_type": "code",
   "execution_count": 28,
   "metadata": {},
   "outputs": [
    {
     "name": "stdout",
     "output_type": "stream",
     "text": [
      "[0.97301247 0.02727823 0.03440014 0.23175721 0.73478369 0.52528009\n",
      " 0.81592709 0.06565772 0.69685514 0.8727061  0.08919907 0.03780006\n",
      " 0.67880297 0.21934601 0.48625515 0.89437721 0.51895324 0.76448203\n",
      " 0.91511232 0.16454589 0.36983674 0.77671046 0.55707796 0.866374\n",
      " 0.3891105  0.63053338 0.45162204 0.46704451 0.96296549 0.47607668]\n",
      "The mean : 0.5231294529277943\n"
     ]
    }
   ],
   "source": [
    "import numpy as np\n",
    "Z = np.random.random(30)\n",
    "print(Z)\n",
    "m = Z.mean()\n",
    "print (\"The mean :\",m)"
   ]
  },
  {
   "cell_type": "markdown",
   "metadata": {},
   "source": [
    "# 9.Create a 2d array with 1 on the border and 0 inside"
   ]
  },
  {
   "cell_type": "code",
   "execution_count": 19,
   "metadata": {},
   "outputs": [
    {
     "data": {
      "text/plain": [
       "array([[1., 1., 1., 1., 1., 1., 1., 1., 1., 1.],\n",
       "       [1., 0., 0., 0., 0., 0., 0., 0., 0., 1.],\n",
       "       [1., 0., 0., 0., 0., 0., 0., 0., 0., 1.],\n",
       "       [1., 0., 0., 0., 0., 0., 0., 0., 0., 1.],\n",
       "       [1., 0., 0., 0., 0., 0., 0., 0., 0., 1.],\n",
       "       [1., 0., 0., 0., 0., 0., 0., 0., 0., 1.],\n",
       "       [1., 0., 0., 0., 0., 0., 0., 0., 0., 1.],\n",
       "       [1., 0., 0., 0., 0., 0., 0., 0., 0., 1.],\n",
       "       [1., 0., 0., 0., 0., 0., 0., 0., 0., 1.],\n",
       "       [1., 1., 1., 1., 1., 1., 1., 1., 1., 1.]])"
      ]
     },
     "execution_count": 19,
     "metadata": {},
     "output_type": "execute_result"
    }
   ],
   "source": [
    "import numpy as np\n",
    "Z = np.ones((10,10))\n",
    "Z[1:-1,1:-1]=0\n",
    "Z"
   ]
  },
  {
   "cell_type": "markdown",
   "metadata": {},
   "source": [
    "# 10. Normalize a 5x5 matrix"
   ]
  },
  {
   "cell_type": "code",
   "execution_count": 21,
   "metadata": {},
   "outputs": [
    {
     "name": "stdout",
     "output_type": "stream",
     "text": [
      "Original Matrix\n",
      "[[0.76765205 0.75252249 0.78723513 0.39238966 0.95748193]\n",
      " [0.52296544 0.67972115 0.28170484 0.37208325 0.90727258]\n",
      " [0.98059936 0.21941864 0.13711262 0.29106119 0.81162991]\n",
      " [0.4747389  0.94460569 0.94926289 0.70388089 0.10165024]\n",
      " [0.61398914 0.67085518 0.29574316 0.66728918 0.62777878]]\n",
      "New Matrix\n",
      "[[0.75772509 0.74051186 0.78000521 0.33078071 0.97369878]\n",
      " [0.47933969 0.65768416 0.20485213 0.30767766 0.91657448]\n",
      " [1.         0.13398772 0.04034634 0.21549705 0.80775969]\n",
      " [0.42447127 0.95904919 0.9643478  0.68517123 0.        ]\n",
      " [0.58289938 0.64759714 0.22082383 0.64354002 0.59858817]]\n"
     ]
    }
   ],
   "source": [
    "import numpy as np\n",
    "Z = np.random.random((5,5))\n",
    "print(\"Original Matrix\")\n",
    "print(Z)\n",
    "Zmax, Zmin = Z.max(), Z.min()\n",
    "Z= (Z-Zmin)/(Zmax-Zmin)\n",
    "print(\"New Matrix\")\n",
    "print (Z)"
   ]
  },
  {
   "cell_type": "markdown",
   "metadata": {},
   "source": [
    "# 11. Multiply a 5x3 matrix by a 3x2 matrix"
   ]
  },
  {
   "cell_type": "code",
   "execution_count": 22,
   "metadata": {},
   "outputs": [
    {
     "name": "stdout",
     "output_type": "stream",
     "text": [
      "[[3. 3.]\n",
      " [3. 3.]\n",
      " [3. 3.]\n",
      " [3. 3.]\n",
      " [3. 3.]]\n"
     ]
    }
   ],
   "source": [
    "import numpy as np\n",
    "Z= np.dot(np.ones((5,3)), np.ones((3,2)))\n",
    "print (Z)"
   ]
  },
  {
   "cell_type": "markdown",
   "metadata": {},
   "source": [
    "# 12. Negate all the elements which are in between 3x8 in place"
   ]
  },
  {
   "cell_type": "code",
   "execution_count": 23,
   "metadata": {},
   "outputs": [
    {
     "name": "stdout",
     "output_type": "stream",
     "text": [
      "Original\n",
      "[ 0  1  2  3  4  5  6  7  8  9 10]\n",
      "New\n",
      "[ 0  1  2  3 -4 -5 -6 -7  8  9 10]\n"
     ]
    }
   ],
   "source": [
    "import numpy as np\n",
    "Z = np.arange(11)\n",
    "print(\"Original\")\n",
    "print(Z)\n",
    "Z[(3 < Z) & (Z < 8)] *= -1\n",
    "print(\"New\")\n",
    "print(Z)"
   ]
  },
  {
   "cell_type": "markdown",
   "metadata": {},
   "source": [
    "# 13. Find eigenvalues and eigenvectors of a square matrix"
   ]
  },
  {
   "cell_type": "code",
   "execution_count": 25,
   "metadata": {},
   "outputs": [
    {
     "name": "stdout",
     "output_type": "stream",
     "text": [
      "Original:  [[0.00775664 0.79740193]\n",
      " [0.02583809 0.01073692]]\n",
      "Printing the Eigen values of the given square array:\n",
      " [-0.13429961  0.15279317]\n",
      "Printing Right eigenvectors of the given square array:\n",
      " [[-0.98449949 -0.9838581 ]\n",
      " [ 0.17538747 -0.17895036]]\n"
     ]
    }
   ],
   "source": [
    "import numpy as np\n",
    "x = np.random.random((2,2))\n",
    "print(\"Original: \",x)\n",
    "  \n",
    "# finding eigenvalues and eigenvectors\n",
    "w, v = np.linalg.eig(x)\n",
    "  \n",
    "# printing eigen values\n",
    "print(\"Printing the Eigen values of the given square array:\\n\",\n",
    "      w)\n",
    "  \n",
    "# printing eigen vectors\n",
    "print(\"Printing Right eigenvectors of the given square array:\\n\",\n",
    "      v)"
   ]
  },
  {
   "cell_type": "markdown",
   "metadata": {},
   "source": [
    "# 14. Find inverse"
   ]
  },
  {
   "cell_type": "code",
   "execution_count": 27,
   "metadata": {},
   "outputs": [
    {
     "name": "stdout",
     "output_type": "stream",
     "text": [
      "Original:\n",
      "[[0.22233539 0.22273605]\n",
      " [0.00084206 0.27527107]]\n",
      "Inverse\n",
      "[[ 4.51153535 -3.65051643]\n",
      " [-0.01380086  3.64394973]]\n"
     ]
    }
   ],
   "source": [
    "import numpy as np\n",
    "x = np.random.random((2,2))\n",
    "print(\"Original:\")\n",
    "print(x)\n",
    "print(\"Inverse\")\n",
    "print(np.linalg.inv(x))"
   ]
  },
  {
   "cell_type": "code",
   "execution_count": null,
   "metadata": {},
   "outputs": [],
   "source": []
  }
 ],
 "metadata": {
  "kernelspec": {
   "display_name": "Python 3",
   "language": "python",
   "name": "python3"
  },
  "language_info": {
   "codemirror_mode": {
    "name": "ipython",
    "version": 3
   },
   "file_extension": ".py",
   "mimetype": "text/x-python",
   "name": "python",
   "nbconvert_exporter": "python",
   "pygments_lexer": "ipython3",
   "version": "3.7.1"
  }
 },
 "nbformat": 4,
 "nbformat_minor": 2
}
